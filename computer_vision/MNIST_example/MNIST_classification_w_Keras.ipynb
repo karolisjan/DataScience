{
 "cells": [
  {
   "cell_type": "markdown",
   "metadata": {},
   "source": [
    "# Classification of MNIST database with a MLP\n",
    "More info on the database can be found [here](http://yann.lecun.com/exdb/mnist/).\n",
    "\n",
    "## Load the MNIST dataset"
   ]
  },
  {
   "cell_type": "code",
   "execution_count": 2,
   "metadata": {},
   "outputs": [],
   "source": [
    "from keras.datasets import mnist\n",
    "\n",
    "(X_train, y_train), (X_test, y_test) = mnist.load_data()"
   ]
  },
  {
   "cell_type": "markdown",
   "metadata": {},
   "source": [
    "## Visualise the first six training images"
   ]
  },
  {
   "cell_type": "code",
   "execution_count": 5,
   "metadata": {},
   "outputs": [
    {
     "data": {
      "image/png": "[encoded data removed]",
      "text/plain": [
       "<matplotlib.figure.Figure at 0x1549a8264e0>"
      ]
     },
     "metadata": {},
     "output_type": "display_data"
    }
   ],
   "source": [
    "import matplotlib.pyplot as plt\n",
    "%matplotlib inline\n",
    "import numpy as np\n",
    "\n",
    "fig, ax = plt.subplots(ncols=6, figsize=(20, 20))\n",
    "for i in range(6):\n",
    "    ax[i].imshow(X_train[i], cmap='gray')\n",
    "    ax[i].set_title(str(y_train[i]))\n",
    "    ax[i].axis(\"off\")    "
   ]
  },
  {
   "cell_type": "markdown",
   "metadata": {},
   "source": [
    "## Rescale the images\n",
    "\n",
    "Every pixel in the images have integer values in range [0, 255] (where 0 - black, 255 - white). The pixels need to be rescale from [0, 255] to [0, 1]."
   ]
  },
  {
   "cell_type": "code",
   "execution_count": 6,
   "metadata": {
    "collapsed": true
   },
   "outputs": [],
   "source": [
    "X_train = X_train.astype('float32') / 255\n",
    "X_test = X_test.astype('float32') / 255"
   ]
  },
  {
   "cell_type": "markdown",
   "metadata": {},
   "source": [
    "## Preprocess labels\n",
    "Apply One-Hot encoding to the labels, i.e. 7 -> 0 0 0 0 0 0 0 1 0 0."
   ]
  },
  {
   "cell_type": "code",
   "execution_count": 8,
   "metadata": {},
   "outputs": [
    {
     "name": "stdout",
     "output_type": "stream",
     "text": [
      "Integer-valued labels:\n",
      "[5 0 4 1 9 2 1 3 1 4]\n",
      "\n",
      "One-Hot encoded labels:\n",
      "[[ 0.  0.  0.  0.  0.  1.  0.  0.  0.  0.]\n",
      " [ 1.  0.  0.  0.  0.  0.  0.  0.  0.  0.]\n",
      " [ 0.  0.  0.  0.  1.  0.  0.  0.  0.  0.]\n",
      " [ 0.  1.  0.  0.  0.  0.  0.  0.  0.  0.]\n",
      " [ 0.  0.  0.  0.  0.  0.  0.  0.  0.  1.]\n",
      " [ 0.  0.  1.  0.  0.  0.  0.  0.  0.  0.]\n",
      " [ 0.  1.  0.  0.  0.  0.  0.  0.  0.  0.]\n",
      " [ 0.  0.  0.  1.  0.  0.  0.  0.  0.  0.]\n",
      " [ 0.  1.  0.  0.  0.  0.  0.  0.  0.  0.]\n",
      " [ 0.  0.  0.  0.  1.  0.  0.  0.  0.  0.]]\n"
     ]
    }
   ],
   "source": [
    "from keras.utils import np_utils\n",
    "\n",
    "print('Integer-valued labels:')\n",
    "print(y_train[:10])\n",
    "\n",
    "# Apply One-Hot encoding\n",
    "y_train = np_utils.to_categorical(y_train, 10)\n",
    "y_test = np_utils.to_categorical(y_test, 10)\n",
    "\n",
    "print('\\nOne-Hot encoded labels:')\n",
    "print(y_train[:10])"
   ]
  },
  {
   "cell_type": "markdown",
   "metadata": {},
   "source": [
    "## MLP for Image Classifacation"
   ]
  },
  {
   "cell_type": "code",
   "execution_count": 11,
   "metadata": {},
   "outputs": [
    {
     "name": "stdout",
     "output_type": "stream",
     "text": [
      "_________________________________________________________________\n",
      "Layer (type)                 Output Shape              Param #   \n",
      "=================================================================\n",
      "flatten_3 (Flatten)          (None, 784)               0         \n",
      "_________________________________________________________________\n",
      "dense_7 (Dense)              (None, 512)               401920    \n",
      "_________________________________________________________________\n",
      "dropout_3 (Dropout)          (None, 512)               0         \n",
      "_________________________________________________________________\n",
      "dense_8 (Dense)              (None, 512)               262656    \n",
      "_________________________________________________________________\n",
      "dropout_4 (Dropout)          (None, 512)               0         \n",
      "_________________________________________________________________\n",
      "dense_9 (Dense)              (None, 10)                5130      \n",
      "=================================================================\n",
      "Total params: 669,706\n",
      "Trainable params: 669,706\n",
      "Non-trainable params: 0\n",
      "_________________________________________________________________\n"
     ]
    }
   ],
   "source": [
    "from keras.models import Sequential\n",
    "from keras.layers import Dense, Dropout, Flatten\n",
    "\n",
    "model = Sequential()\n",
    "\n",
    "# Input layer of 784 nodes\n",
    "# Flatten layer takes in a matrix and turns it into a vector\n",
    "model.add(Flatten(input_shape=X_train.shape[1:]))\n",
    "\n",
    "# 1st hidden layer of 512 nodes\n",
    "model.add(Dense(512, activation='relu'))\n",
    "\n",
    "# Add dropout to the 1st hidden layer. 0.2 is the prob. of Dropout\n",
    "model.add(Dropout(0.2)) \n",
    "\n",
    "# 2nd hidden layer of 512 nodes\n",
    "model.add(Dense(512, activation='relu'))\n",
    "\n",
    "# Add dropout to the 2nd hidden layer\n",
    "model.add(Dropout(0.2))\n",
    "\n",
    "# Output layer - 10 labels\n",
    "model.add(Dense(10, activation='softmax'))\n",
    "\n",
    "model.summary()"
   ]
  },
  {
   "cell_type": "markdown",
   "metadata": {},
   "source": [
    "## Compile the model\n",
    "List of available optimisers in Keras:\n",
    " - [SGD](http://sebastianruder.com/optimizing-gradient-descent/index.html#stochasticgradientdescent)\n",
    " - [RMSprop](http://sebastianruder.com/optimizing-gradient-descent/index.html#rmsprop)\n",
    " - [Adagrad](http://sebastianruder.com/optimizing-gradient-descent/index.html#adagrad)\n",
    " - [Adadelta](http://sebastianruder.com/optimizing-gradient-descent/index.html#adadelta)\n",
    " - [AdaMax](http://sebastianruder.com/optimizing-gradient-descent/index.html#adamax)\n",
    " - [Nadam](http://sebastianruder.com/optimizing-gradient-descent/index.html#nadam)\n",
    " - TFOptimizer"
   ]
  },
  {
   "cell_type": "code",
   "execution_count": 12,
   "metadata": {
    "collapsed": true
   },
   "outputs": [],
   "source": [
    "model.compile(loss='categorical_crossentropy',\n",
    "              optimizer='rmsprop',\n",
    "              metrics=['accuracy'])"
   ]
  },
  {
   "cell_type": "markdown",
   "metadata": {},
   "source": [
    "## Model Validation\n",
    "\n",
    "- [ModelCheckpoint](https://keras.io/callbacks/#modelcheckpoint)\n",
    "- [EarlyStopping](https://keras.io/callbacks/#earlystopping)"
   ]
  },
  {
   "cell_type": "code",
   "execution_count": 23,
   "metadata": {},
   "outputs": [
    {
     "name": "stdout",
     "output_type": "stream",
     "text": [
      "Train on 48000 samples, validate on 12000 samples\n",
      "Epoch 1/10\n",
      "46720/48000 [============================>.] - ETA: 0s - loss: 0.0131 - acc: 0.9973Epoch 00000: val_loss improved from inf to 0.08041, saving model to mnist.model.best.hdf5\n",
      "48000/48000 [==============================] - 1s - loss: 0.0129 - acc: 0.9973 - val_loss: 0.0804 - val_acc: 0.9896\n",
      "Epoch 2/10\n",
      "47104/48000 [============================>.] - ETA: 0s - loss: 0.0117 - acc: 0.9974Epoch 00001: val_loss did not improve\n",
      "48000/48000 [==============================] - 1s - loss: 0.0115 - acc: 0.9974 - val_loss: 0.0956 - val_acc: 0.9888\n",
      "Epoch 3/10\n",
      "46720/48000 [============================>.] - ETA: 0s - loss: 0.0108 - acc: 0.9978Epoch 00002: val_loss did not improve\n",
      "48000/48000 [==============================] - 1s - loss: 0.0107 - acc: 0.9978 - val_loss: 0.0986 - val_acc: 0.9888\n",
      "Epoch 4/10\n",
      "46720/48000 [============================>.] - ETA: 0s - loss: 0.0098 - acc: 0.9979Epoch 00003: val_loss did not improve\n",
      "48000/48000 [==============================] - 1s - loss: 0.0097 - acc: 0.9979 - val_loss: 0.0942 - val_acc: 0.9883\n",
      "Epoch 5/10\n",
      "47872/48000 [============================>.] - ETA: 0s - loss: 0.0102 - acc: 0.9981Epoch 00004: val_loss did not improve\n",
      "48000/48000 [==============================] - 1s - loss: 0.0105 - acc: 0.9981 - val_loss: 0.0938 - val_acc: 0.9887\n",
      "Epoch 6/10\n",
      "46464/48000 [============================>.] - ETA: 0s - loss: 0.0098 - acc: 0.9980Epoch 00005: val_loss improved from 0.08041 to 0.07886, saving model to mnist.model.best.hdf5\n",
      "48000/48000 [==============================] - 1s - loss: 0.0095 - acc: 0.9981 - val_loss: 0.0789 - val_acc: 0.9901\n",
      "Epoch 7/10\n",
      "46976/48000 [============================>.] - ETA: 0s - loss: 0.0108 - acc: 0.9980Epoch 00006: val_loss did not improve\n",
      "48000/48000 [==============================] - 1s - loss: 0.0106 - acc: 0.9980 - val_loss: 0.0965 - val_acc: 0.9885\n",
      "Epoch 8/10\n",
      "47616/48000 [============================>.] - ETA: 0s - loss: 0.0111 - acc: 0.9979Epoch 00007: val_loss did not improve\n",
      "48000/48000 [==============================] - 1s - loss: 0.0110 - acc: 0.9979 - val_loss: 0.1015 - val_acc: 0.9874\n",
      "Epoch 9/10\n",
      "46976/48000 [============================>.] - ETA: 0s - loss: 0.0121 - acc: 0.9978Epoch 00008: val_loss did not improve\n",
      "48000/48000 [==============================] - 1s - loss: 0.0121 - acc: 0.9978 - val_loss: 0.0968 - val_acc: 0.9884\n",
      "Epoch 10/10\n",
      "47232/48000 [============================>.] - ETA: 0s - loss: 0.0076 - acc: 0.9983Epoch 00009: val_loss did not improve\n",
      "48000/48000 [==============================] - 1s - loss: 0.0075 - acc: 0.9984 - val_loss: 0.0890 - val_acc: 0.9892\n"
     ]
    }
   ],
   "source": [
    "from keras.callbacks import ModelCheckpoint, EarlyStopping\n",
    "\n",
    "checkpointer = ModelCheckpoint(filepath='mnist.model.best.hdf5',\n",
    "                               verbose=1,\n",
    "                               save_best_only=True)\n",
    "\n",
    "early_stop = EarlyStopping(monitor='val_loss', \n",
    "                           min_delta=1e-4,\n",
    "                           patience=5, \n",
    "                           verbose=1, \n",
    "                           mode='auto')\n",
    "\n",
    "history = model.fit(X_train, \n",
    "                    y_train, \n",
    "                    batch_size=128,\n",
    "                    epochs=10,\n",
    "                    validation_split=0.2,\n",
    "                    callbacks=[checkpointer, early_stop],\n",
    "                    verbose=1, \n",
    "                    shuffle=True)"
   ]
  },
  {
   "cell_type": "markdown",
   "metadata": {},
   "source": [
    "## Calculate the classification accuracy on the test set"
   ]
  },
  {
   "cell_type": "code",
   "execution_count": 24,
   "metadata": {},
   "outputs": [
    {
     "name": "stdout",
     "output_type": "stream",
     "text": [
      "Test accuracy: 98.3900%\n"
     ]
    }
   ],
   "source": [
    "score = model.evaluate(X_test, y_test, verbose=0)\n",
    "accuracy = 100 * score[1]\n",
    "\n",
    "print(\"Test accuracy: %.4f%%\" % accuracy)"
   ]
  }
 ],
 "metadata": {
  "kernelspec": {
   "display_name": "Python 3",
   "language": "python",
   "name": "python3"
  },
  "language_info": {
   "codemirror_mode": {
    "name": "ipython",
    "version": 3
   },
   "file_extension": ".py",
   "mimetype": "text/x-python",
   "name": "python",
   "nbconvert_exporter": "python",
   "pygments_lexer": "ipython3",
   "version": "3.5.3"
  }
 },
 "nbformat": 4,
 "nbformat_minor": 2
}
