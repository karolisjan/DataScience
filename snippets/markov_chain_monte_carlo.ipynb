{
 "cells": [
  {
   "cell_type": "markdown",
   "metadata": {},
   "source": [
    "## Bayesian inference\n",
    "\n",
    "$$\n",
    "    P(A | B) = \\frac{ P(B | A)P(A) }{ P(B) }\n",
    "$$\n",
    "\n",
    "where:\n",
    "* $P(A | B)$ is the posterior.\n",
    "* $P(B | A)$ is the likelihood.\n",
    "* $P(A)$ is the prior.\n",
    "* $P(B)$ is the evidence.\n",
    "\n",
    "<br>\n",
    "\n",
    "MCMC can be used to compute the distribution over the parameters given a set of observations and a prior belief.\n",
    "\n",
    "MCMC is a class of methods. For example, *Metropolis-Hastings* is a specific implementation of MCMC. Compared to *Gibbs sampling*, it works better in high dimensional spaces."
   ]
  },
  {
   "cell_type": "code",
   "execution_count": 1,
   "metadata": {},
   "outputs": [],
   "source": [
    "import pymc3"
   ]
  },
  {
   "cell_type": "code",
   "execution_count": null,
   "metadata": {},
   "outputs": [],
   "source": []
  }
 ],
 "metadata": {
  "kernelspec": {
   "display_name": "rpy2",
   "language": "python",
   "name": "rpy2"
  },
  "language_info": {
   "codemirror_mode": {
    "name": "ipython",
    "version": 3
   },
   "file_extension": ".py",
   "mimetype": "text/x-python",
   "name": "python",
   "nbconvert_exporter": "python",
   "pygments_lexer": "ipython3",
   "version": "3.7.3"
  }
 },
 "nbformat": 4,
 "nbformat_minor": 2
}
