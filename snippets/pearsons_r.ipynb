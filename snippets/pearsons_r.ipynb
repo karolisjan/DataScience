{
 "cells": [
  {
   "cell_type": "code",
   "execution_count": 11,
   "metadata": {},
   "outputs": [],
   "source": [
    "import numpy as np\n",
    "from scipy import stats"
   ]
  },
  {
   "cell_type": "code",
   "execution_count": 17,
   "metadata": {},
   "outputs": [],
   "source": [
    "def cov(x, y):\n",
    "    assert len(x) == len(y)\n",
    "    n = len(x)\n",
    "    mu_x = sum(x) / n\n",
    "    mu_y = sum(y) / n    \n",
    "    return sum(map(lambda t: (t[0] - mu_x) * (t[1] - mu_y), zip(x, y))) / n"
   ]
  },
  {
   "cell_type": "code",
   "execution_count": 43,
   "metadata": {},
   "outputs": [],
   "source": [
    "def sigma(x, ddof=0):\n",
    "    n = len(x)\n",
    "    mu_x = sum(x) / n\n",
    "    return (sum(map(lambda x_i: (x_i - mu_x) * (x_i - mu_x), x)) / (n - ddof)) ** 0.5\n",
    "\n",
    "\n",
    "def var(x, ddof=0):\n",
    "    n = len(x)\n",
    "    mu_x = sum(x) / n\n",
    "    return sum(map(lambda x_i: (x_i - mu_x) * (x_i - mu_x), x)) / (n - ddof)"
   ]
  },
  {
   "cell_type": "code",
   "execution_count": 44,
   "metadata": {},
   "outputs": [],
   "source": [
    "def pearsons_r(x, y):\n",
    "    return cov(x, y) / (sigma(x) * sigma(y))"
   ]
  },
  {
   "cell_type": "code",
   "execution_count": 49,
   "metadata": {},
   "outputs": [
    {
     "data": {
      "text/plain": [
       "0.06698227514080923"
      ]
     },
     "execution_count": 49,
     "metadata": {},
     "output_type": "execute_result"
    }
   ],
   "source": [
    "x = np.random.randn(20)\n",
    "y = np.random.randn(20)\n",
    "\n",
    "r = pearsons_r(x, y)\n",
    "r"
   ]
  },
  {
   "cell_type": "code",
   "execution_count": 50,
   "metadata": {},
   "outputs": [
    {
     "data": {
      "text/plain": [
       "(0.06698227514080923, 0.7790320507773183)"
      ]
     },
     "execution_count": 50,
     "metadata": {},
     "output_type": "execute_result"
    }
   ],
   "source": [
    "stats.pearsonr(x, y)"
   ]
  },
  {
   "cell_type": "code",
   "execution_count": 57,
   "metadata": {},
   "outputs": [
    {
     "name": "stdout",
     "output_type": "stream",
     "text": [
      "0.0670827204635724 0.06698227514080916\n"
     ]
    }
   ],
   "source": [
    "def standard_error(n):\n",
    "    return 1 / (n - 3) ** 0.5\n",
    "\n",
    "\n",
    "def fishers_z_score(r):\n",
    "    '''\n",
    "        arctanh(r)\n",
    "    '''\n",
    "    return 0.5 * (np.log(1 + r) - np.log(1 - r))\n",
    "\n",
    "\n",
    "def reverse_fishers_z_score(z):\n",
    "    '''\n",
    "        tanh(z)\n",
    "    '''\n",
    "    return (np.exp(2 * z) - 1) / (np.exp(2 * z) + 1)\n",
    "\n",
    "\n",
    "r_z = fishers_z_score(r)\n",
    "r = reverse_fishers_z_score(z)\n",
    "\n",
    "print(r_z, r)"
   ]
  },
  {
   "cell_type": "code",
   "execution_count": 59,
   "metadata": {},
   "outputs": [
    {
     "name": "stdout",
     "output_type": "stream",
     "text": [
      "-0.38700988591974606 0.4948356108113969\n"
     ]
    }
   ],
   "source": [
    "alpha = 0.05\n",
    "se = standard_error(len(x))\n",
    "z = stats.norm.ppf(1 - alpha / 2)\n",
    "ci_low, ci_high = reverse_fishers_z_score(r_z - z * se), reverse_fishers_z_score(r_z + z * se)\n",
    "print(ci_low, ci_high)"
   ]
  },
  {
   "cell_type": "code",
   "execution_count": null,
   "metadata": {},
   "outputs": [],
   "source": []
  }
 ],
 "metadata": {
  "kernelspec": {
   "display_name": "rpy2",
   "language": "python",
   "name": "rpy2"
  },
  "language_info": {
   "codemirror_mode": {
    "name": "ipython",
    "version": 3
   },
   "file_extension": ".py",
   "mimetype": "text/x-python",
   "name": "python",
   "nbconvert_exporter": "python",
   "pygments_lexer": "ipython3",
   "version": "3.7.3"
  }
 },
 "nbformat": 4,
 "nbformat_minor": 2
}
