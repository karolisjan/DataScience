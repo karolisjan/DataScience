{
 "cells": [
  {
   "cell_type": "markdown",
   "metadata": {},
   "source": [
    "# Naive Bayes\n",
    "\n",
    "Naive Bayes is supervised learning algorithm that uses the probabilities of class attributes to make a prediction.\n",
    "\n",
    "The name *Naive* comes from a strong assumption that the probability of each attribute belonging to a given class is independent of all other attributes.\n",
    "\n",
    "The probability of a class given a value of an attribute is called the *conditional probability*. The product of the *conditional probabilities* of each attribute for a give class yields a probability of a data instance belonging to that class."
   ]
  },
  {
   "cell_type": "code",
   "execution_count": 14,
   "metadata": {},
   "outputs": [],
   "source": [
    "import numpy as np\n",
    "import pandas as pd\n",
    "import matplotlib.pyplot as plt"
   ]
  },
  {
   "cell_type": "markdown",
   "metadata": {},
   "source": [
    "## Data\n",
    "\n",
    "The data used is the [Pima Indians Diabetes](https://archive.ics.uci.edu/ml/datasets/Pima+Indians+Diabetes) problem:\n",
    "\n",
    "* 768 Pima Indian female patients aged 21 or older.\n",
    "* Each data instance contains numeric-only information such as age, number of times pregnant, blood pressure etc.\n",
    "* A binary classification problem:\n",
    "    * 1 if the patient suffered an onset of diabetes within 5 years of when the measurements were taken.\n",
    "    * 0 otherwise.\n",
    "    \n",
    "The description of each attribute can found [here](https://archive.ics.uci.edu/ml/machine-learning-databases/pima-indians-diabetes/pima-indians-diabetes.names)."
   ]
  },
  {
   "cell_type": "code",
   "execution_count": 5,
   "metadata": {},
   "outputs": [
    {
     "data": {
      "text/html": [
       "<div>\n",
       "<style scoped>\n",
       "    .dataframe tbody tr th:only-of-type {\n",
       "        vertical-align: middle;\n",
       "    }\n",
       "\n",
       "    .dataframe tbody tr th {\n",
       "        vertical-align: top;\n",
       "    }\n",
       "\n",
       "    .dataframe thead th {\n",
       "        text-align: right;\n",
       "    }\n",
       "</style>\n",
       "<table border=\"1\" class=\"dataframe\">\n",
       "  <thead>\n",
       "    <tr style=\"text-align: right;\">\n",
       "      <th></th>\n",
       "      <th>count</th>\n",
       "      <th>mean</th>\n",
       "      <th>std</th>\n",
       "    </tr>\n",
       "  </thead>\n",
       "  <tbody>\n",
       "    <tr>\n",
       "      <th>Number of times pregnant</th>\n",
       "      <td>768.0</td>\n",
       "      <td>3.845052</td>\n",
       "      <td>3.369578</td>\n",
       "    </tr>\n",
       "    <tr>\n",
       "      <th>Plasma glucose concentration</th>\n",
       "      <td>768.0</td>\n",
       "      <td>120.894531</td>\n",
       "      <td>31.972618</td>\n",
       "    </tr>\n",
       "    <tr>\n",
       "      <th>Diastolic blood pressure</th>\n",
       "      <td>768.0</td>\n",
       "      <td>69.105469</td>\n",
       "      <td>19.355807</td>\n",
       "    </tr>\n",
       "    <tr>\n",
       "      <th>Triceps skin fold thickness</th>\n",
       "      <td>768.0</td>\n",
       "      <td>20.536458</td>\n",
       "      <td>15.952218</td>\n",
       "    </tr>\n",
       "    <tr>\n",
       "      <th>2-Hour serum insulin</th>\n",
       "      <td>768.0</td>\n",
       "      <td>79.799479</td>\n",
       "      <td>115.244002</td>\n",
       "    </tr>\n",
       "    <tr>\n",
       "      <th>Body mass index</th>\n",
       "      <td>768.0</td>\n",
       "      <td>31.992578</td>\n",
       "      <td>7.884160</td>\n",
       "    </tr>\n",
       "    <tr>\n",
       "      <th>Diabetes pedigree function</th>\n",
       "      <td>768.0</td>\n",
       "      <td>0.471876</td>\n",
       "      <td>0.331329</td>\n",
       "    </tr>\n",
       "    <tr>\n",
       "      <th>Age</th>\n",
       "      <td>768.0</td>\n",
       "      <td>33.240885</td>\n",
       "      <td>11.760232</td>\n",
       "    </tr>\n",
       "    <tr>\n",
       "      <th>Class</th>\n",
       "      <td>768.0</td>\n",
       "      <td>0.348958</td>\n",
       "      <td>0.476951</td>\n",
       "    </tr>\n",
       "  </tbody>\n",
       "</table>\n",
       "</div>"
      ],
      "text/plain": [
       "                              count        mean         std\n",
       "Number of times pregnant      768.0    3.845052    3.369578\n",
       "Plasma glucose concentration  768.0  120.894531   31.972618\n",
       "Diastolic blood pressure      768.0   69.105469   19.355807\n",
       "Triceps skin fold thickness   768.0   20.536458   15.952218\n",
       "2-Hour serum insulin          768.0   79.799479  115.244002\n",
       "Body mass index               768.0   31.992578    7.884160\n",
       "Diabetes pedigree function    768.0    0.471876    0.331329\n",
       "Age                           768.0   33.240885   11.760232\n",
       "Class                         768.0    0.348958    0.476951"
      ]
     },
     "execution_count": 5,
     "metadata": {},
     "output_type": "execute_result"
    }
   ],
   "source": [
    "data = pd.read_csv(\n",
    "    'pima_indians_diabetes.csv',\n",
    "    header=None,\n",
    "    names=[\n",
    "        'Number of times pregnant',\n",
    "        'Plasma glucose concentration',\n",
    "        'Diastolic blood pressure',\n",
    "        'Triceps skin fold thickness',\n",
    "        '2-Hour serum insulin',\n",
    "        'Body mass index',\n",
    "        'Diabetes pedigree function',\n",
    "        'Age',\n",
    "        'Class' # 1 - diabetes, 0 - otherwise\n",
    "    ]\n",
    ")\n",
    "\n",
    "data.describe().transpose()[['count', 'mean', 'std']]"
   ]
  },
  {
   "cell_type": "code",
   "execution_count": 13,
   "metadata": {},
   "outputs": [
    {
     "name": "stdout",
     "output_type": "stream",
     "text": [
      "1 labels: 268\n",
      "0 labels: 500\n"
     ]
    }
   ],
   "source": [
    "print('1 labels: %d' % data['Class'].sum())\n",
    "print('0 labels: %d' % (len(data) - data['Class'].sum()))"
   ]
  },
  {
   "cell_type": "code",
   "execution_count": null,
   "metadata": {},
   "outputs": [],
   "source": []
  }
 ],
 "metadata": {
  "kernelspec": {
   "display_name": "Python 3",
   "language": "python",
   "name": "python3"
  },
  "language_info": {
   "codemirror_mode": {
    "name": "ipython",
    "version": 3
   },
   "file_extension": ".py",
   "mimetype": "text/x-python",
   "name": "python",
   "nbconvert_exporter": "python",
   "pygments_lexer": "ipython3",
   "version": "3.6.3"
  }
 },
 "nbformat": 4,
 "nbformat_minor": 2
}
