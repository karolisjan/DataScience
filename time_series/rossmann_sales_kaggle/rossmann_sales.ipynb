{
 "cells": [
  {
   "cell_type": "markdown",
   "metadata": {},
   "source": [
    "# Rossmann Sales\n",
    "\n",
    "Rossmann operates over 3,000 drug stores in 7 European countries. Currently, Rossmann store managers are tasked with predicting their daily sales for up to six weeks in advance. Store sales are influenced by many factors, including promotions, competition, school and state holidays, seasonality, and locality. With thousands of individual managers predicting sales based on their unique circumstances, the accuracy of results can be quite varied.\n",
    "\n",
    "Based on the following video [tutorial](https://www.youtube.com/watch?time_continue=127&v=1-NYPQw5THU)."
   ]
  },
  {
   "cell_type": "code",
   "execution_count": 117,
   "metadata": {},
   "outputs": [],
   "source": [
    "import os\n",
    "import pickle\n",
    "import operator\n",
    "import numpy as np\n",
    "import pandas as pd\n",
    "import datetime as dt\n",
    "from glob import glob\n",
    "from isoweek import Week\n",
    "import matplotlib.pyplot as plt\n",
    "from IPython.display import HTML\n",
    "from sklearn_pandas import DataFrameMapper\n",
    "from sklearn.preprocessing import LabelEncoder, Imputer, StandardScaler\n",
    "\n",
    "import keras\n",
    "import keras.backend as K\n",
    "from keras.models import Model\n",
    "from keras.layers import (\n",
    "    Input, Dense, Flatten, Embedding, Dropout, merge, concatenate\n",
    ")"
   ]
  },
  {
   "cell_type": "markdown",
   "metadata": {},
   "source": [
    "## Data"
   ]
  },
  {
   "cell_type": "code",
   "execution_count": 2,
   "metadata": {},
   "outputs": [],
   "source": [
    "tables = {\n",
    "    os.path.splitext(os.path.basename(file))[0]: pd.read_csv(file, low_memory=False) \n",
    "    for file in glob('data/*.csv')\n",
    "}  "
   ]
  },
  {
   "cell_type": "code",
   "execution_count": 3,
   "metadata": {},
   "outputs": [
    {
     "name": "stdout",
     "output_type": "stream",
     "text": [
      "Tables: \n",
      "\n",
      "state_names\n",
      "googletrend\n",
      "test\n",
      "weather\n",
      "train\n",
      "store_states\n",
      "store\n",
      "sample_submission\n"
     ]
    }
   ],
   "source": [
    "print('Tables: \\n\\n%s' % '\\n'.join(tables.keys()))"
   ]
  },
  {
   "cell_type": "code",
   "execution_count": 4,
   "metadata": {},
   "outputs": [
    {
     "name": "stdout",
     "output_type": "stream",
     "text": [
      "Training dataset size: 1017209\n",
      "Test dataset size: 41088\n"
     ]
    }
   ],
   "source": [
    "training, test = tables['train'], tables['test']\n",
    "\n",
    "print('Training dataset size: %d' % len(training))\n",
    "print('Test dataset size: %d' % len(test))"
   ]
  },
  {
   "cell_type": "markdown",
   "metadata": {},
   "source": [
    "### Preprocessing "
   ]
  },
  {
   "cell_type": "code",
   "execution_count": 5,
   "metadata": {},
   "outputs": [],
   "source": [
    "training['StateHoliday'] = training['StateHoliday'] != '0'\n",
    "test['StateHoliday'] = test['StateHoliday'] != '0'"
   ]
  },
  {
   "cell_type": "code",
   "execution_count": 6,
   "metadata": {},
   "outputs": [],
   "source": [
    "def join(\n",
    "    left: pd.DataFrame, \n",
    "    right: pd.DataFrame, \n",
    "    left_on,\n",
    "    right_on=None\n",
    "):\n",
    "    if right_on is None:\n",
    "        right_on = left_on\n",
    "        \n",
    "    return left.merge(\n",
    "        right, \n",
    "        how='left', \n",
    "        left_on=left_on, \n",
    "        right_on=right_on,\n",
    "        suffixes=(\"\", \"_y\")\n",
    "    )"
   ]
  },
  {
   "cell_type": "code",
   "execution_count": 7,
   "metadata": {},
   "outputs": [],
   "source": [
    "weather = join(tables['weather'], tables['state_names'], 'file', 'StateName')"
   ]
  },
  {
   "cell_type": "code",
   "execution_count": 8,
   "metadata": {},
   "outputs": [],
   "source": [
    "googletrend = tables['googletrend']\n",
    "\n",
    "googletrend['Date'] = googletrend['week'].apply(\n",
    "    lambda x: str(x).split(' - ')[0]\n",
    ")\n",
    "\n",
    "googletrend['State'] = googletrend['file'].apply(\n",
    "    lambda x: str(x).split('_')[-1]\n",
    ")\n",
    "\n",
    "googletrend.loc[googletrend['State'] == 'NI', 'State'] = 'HB,NI'"
   ]
  },
  {
   "cell_type": "code",
   "execution_count": 9,
   "metadata": {},
   "outputs": [],
   "source": [
    "def add_datepart(df):\n",
    "    assert 'Date' in df\n",
    "    df['Date'] = pd.to_datetime(df['Date'])\n",
    "    df['Year'] = df.Date.dt.year\n",
    "    df['Month'] = df.Date.dt.month\n",
    "    df['Week'] = df.Date.dt.week\n",
    "    df['Day'] = df.Date.dt.day"
   ]
  },
  {
   "cell_type": "code",
   "execution_count": 10,
   "metadata": {},
   "outputs": [],
   "source": [
    "add_datepart(weather)\n",
    "add_datepart(googletrend)\n",
    "add_datepart(training)\n",
    "add_datepart(test)"
   ]
  },
  {
   "cell_type": "code",
   "execution_count": 11,
   "metadata": {},
   "outputs": [],
   "source": [
    "store, store_states = tables['store'], tables['store_states']"
   ]
  },
  {
   "cell_type": "code",
   "execution_count": 12,
   "metadata": {},
   "outputs": [],
   "source": [
    "trend_de = googletrend[googletrend['file'] == 'Rossmann_DE']\n",
    "store = join(store, store_states, 'Store')\n",
    "joined = join(training, store, 'Store')\n",
    "joined = join(joined, googletrend, ['State', 'Year', 'Week'])\n",
    "joined = joined.merge(trend_de, 'left', ['Year', 'Week'], suffixes=('', '_DE'))\n",
    "joined = join(joined, weather, ['State', 'Date'])"
   ]
  },
  {
   "cell_type": "code",
   "execution_count": 13,
   "metadata": {},
   "outputs": [
    {
     "name": "stdout",
     "output_type": "stream",
     "text": [
      "No. StoreType nulls in joined_test: 48\n"
     ]
    }
   ],
   "source": [
    "joined_test = test.merge(store, how='left', left_on='Store', right_index=True)\n",
    "print('No. StoreType nulls in joined_test: %d' % sum(joined_test['StoreType'].isnull()))"
   ]
  },
  {
   "cell_type": "code",
   "execution_count": 14,
   "metadata": {},
   "outputs": [],
   "source": [
    "joined['CompetitionOpenSinceYear'] = joined['CompetitionOpenSinceYear'].fillna(1900).astype(np.int32)\n",
    "joined['CompetitionOpenSinceMonth'] = joined['CompetitionOpenSinceMonth'].fillna(1).astype(np.int32)\n",
    "\n",
    "joined['Promo2SinceYear'] = joined['Promo2SinceYear'].fillna(1900).astype(np.int32)\n",
    "joined['Promo2SinceWeek'] = joined['Promo2SinceWeek'].fillna(1).astype(np.int32)"
   ]
  },
  {
   "cell_type": "code",
   "execution_count": 15,
   "metadata": {},
   "outputs": [],
   "source": [
    "joined['CompetitionOpenSince'] = pd.to_datetime(\n",
    "    joined.apply(\n",
    "        lambda x: dt.datetime(\n",
    "            x['CompetitionOpenSinceYear'], x['CompetitionOpenSinceMonth'], 15\n",
    "        ), axis = 1\n",
    "    ).astype(pd.datetime)\n",
    ")\n",
    "\n",
    "joined['CompetitionDaysOpen'] = joined['Date'].subtract(joined['CompetitionOpenSince']).dt.days"
   ]
  },
  {
   "cell_type": "code",
   "execution_count": 16,
   "metadata": {},
   "outputs": [],
   "source": [
    "joined.loc[joined['CompetitionDaysOpen'] < 0, 'CompetitionDaysOpen'] = 0\n",
    "joined.loc[joined['CompetitionOpenSinceYear'] < 1990, 'CompetitionDaysOpen'] = 0"
   ]
  },
  {
   "cell_type": "code",
   "execution_count": 17,
   "metadata": {},
   "outputs": [],
   "source": [
    "joined['CompetitionMonthsOpen'] = joined['CompetitionDaysOpen'] // 30\n",
    "joined.loc[joined['CompetitionMonthsOpen'] > 24, 'CompetitionMonthsOpen'] = 24"
   ]
  },
  {
   "cell_type": "code",
   "execution_count": 18,
   "metadata": {},
   "outputs": [],
   "source": [
    "joined['Promo2Since'] = pd.to_datetime(\n",
    "    joined.apply(\n",
    "        lambda x: Week(\n",
    "            x['Promo2SinceYear'], x['Promo2SinceWeek']\n",
    "        ).monday(), axis=1\n",
    "    ).astype(pd.datetime)\n",
    ")\n",
    "\n",
    "joined['Promo2Days'] = joined['Date'].subtract(joined['Promo2Since']).dt.days"
   ]
  },
  {
   "cell_type": "code",
   "execution_count": 19,
   "metadata": {},
   "outputs": [],
   "source": [
    "joined.loc[joined['Promo2Days'] < 0, 'Promo2Days'] = 0\n",
    "joined.loc[joined['Promo2SinceYear'] < 1990, 'Promo2Days'] = 0"
   ]
  },
  {
   "cell_type": "code",
   "execution_count": 20,
   "metadata": {},
   "outputs": [],
   "source": [
    "joined['Promo2Weeks'] = joined['Promo2Days'] // 7\n",
    "joined.loc[joined['Promo2Weeks'] < 0, 'Promo2Weeks'] = 0\n",
    "joined.loc[joined['Promo2Weeks'] > 25, 'Promo2Weeks'] = 25"
   ]
  },
  {
   "cell_type": "markdown",
   "metadata": {},
   "source": [
    "### Durations"
   ]
  },
  {
   "cell_type": "code",
   "execution_count": 25,
   "metadata": {},
   "outputs": [],
   "source": [
    "columns = ['Date', 'Store', 'Promo', 'StateHoliday', 'SchoolHoliday']"
   ]
  },
  {
   "cell_type": "code",
   "execution_count": 26,
   "metadata": {},
   "outputs": [],
   "source": [
    "class Elapsed():\n",
    "    '''\n",
    "        For estimating durations between different events.\n",
    "    '''\n",
    "    \n",
    "    def __init__(self, field):\n",
    "        self.field = field\n",
    "        self.last = pd.to_datetime(np.nan)\n",
    "        self.last_store = 0\n",
    "        \n",
    "    def get(self, row):\n",
    "        if row['Store'] != self.last_store:\n",
    "            self.last = pd.to_datetime(np.nan)\n",
    "            self.last_store = row.Store\n",
    "            \n",
    "        if row[self.field]:\n",
    "            self.last = row['Date']\n",
    "            \n",
    "        return row['Date'] - self.last"
   ]
  },
  {
   "cell_type": "code",
   "execution_count": 27,
   "metadata": {},
   "outputs": [],
   "source": [
    "df = training[columns]"
   ]
  },
  {
   "cell_type": "code",
   "execution_count": 28,
   "metadata": {},
   "outputs": [],
   "source": [
    "def add_elapsed(field, prefix):\n",
    "    sh_el = Elapsed(field)\n",
    "    df[prefix+field] = df.apply(sh_el.get, axis=1)"
   ]
  },
  {
   "cell_type": "code",
   "execution_count": 29,
   "metadata": {},
   "outputs": [],
   "source": [
    "df = df.sort_values(['Store', 'Date'])\n",
    "add_elapsed('SchoolHoliday', 'After')\n",
    "\n",
    "df = df.sort_values(['Store', 'Date'], ascending=[True, False])\n",
    "add_elapsed('SchoolHoliday', 'Before')\n",
    "\n",
    "df = df.sort_values(['Store', 'Date'])\n",
    "add_elapsed('StateHoliday', 'After')\n",
    "\n",
    "df = df.sort_values(['Store', 'Date'], ascending=[True, False])\n",
    "add_elapsed('StateHoliday', 'Before')\n",
    "\n",
    "df = df.sort_values(['Store', 'Date'])\n",
    "add_elapsed('Promo', 'After')\n",
    "\n",
    "df = df.sort_values(['Store', 'Date'], ascending=[True, False])\n",
    "add_elapsed('Promo', 'Before')\n",
    "\n",
    "df = df.set_index('Date')"
   ]
  },
  {
   "cell_type": "code",
   "execution_count": 30,
   "metadata": {},
   "outputs": [],
   "source": [
    "columns =['SchoolHoliday', 'StateHoliday', 'Promo']"
   ]
  },
  {
   "cell_type": "code",
   "execution_count": 31,
   "metadata": {},
   "outputs": [],
   "source": [
    "for o in ['Before', 'After']:\n",
    "    for p in columns:\n",
    "        a = o + p\n",
    "        df[a] = df[a].fillna(pd.Timedelta(0)).dt.days"
   ]
  },
  {
   "cell_type": "code",
   "execution_count": 32,
   "metadata": {},
   "outputs": [],
   "source": [
    "# No. holidays in a week before\n",
    "bwd = df[['Store'] + columns].sort_index().groupby('Store').rolling(7, min_periods=1).sum()\n",
    "\n",
    "# No. holidays in a week after\n",
    "fwd = df[['Store'] + columns].sort_index(\n",
    "    ascending=False\n",
    ").groupby('Store').rolling(7, min_periods=1).sum()"
   ]
  },
  {
   "cell_type": "code",
   "execution_count": 33,
   "metadata": {},
   "outputs": [],
   "source": [
    "bwd.drop('Store', 1, inplace=True)\n",
    "bwd.reset_index(inplace=True)\n",
    "\n",
    "fwd.drop('Store', 1, inplace=True)\n",
    "fwd.reset_index(inplace=True)\n",
    "\n",
    "df.reset_index(inplace=True)"
   ]
  },
  {
   "cell_type": "code",
   "execution_count": 34,
   "metadata": {},
   "outputs": [],
   "source": [
    "df = df.merge(bwd, 'left', ['Date', 'Store'], suffixes=['', '_bw'])\n",
    "df = df.merge(fwd, 'left', ['Date', 'Store'], suffixes=['', '_fw'])\n",
    "\n",
    "df.drop(columns, 1, inplace=True)"
   ]
  },
  {
   "cell_type": "code",
   "execution_count": 35,
   "metadata": {},
   "outputs": [
    {
     "data": {
      "text/html": [
       "<div>\n",
       "<style scoped>\n",
       "    .dataframe tbody tr th:only-of-type {\n",
       "        vertical-align: middle;\n",
       "    }\n",
       "\n",
       "    .dataframe tbody tr th {\n",
       "        vertical-align: top;\n",
       "    }\n",
       "\n",
       "    .dataframe thead th {\n",
       "        text-align: right;\n",
       "    }\n",
       "</style>\n",
       "<table border=\"1\" class=\"dataframe\">\n",
       "  <thead>\n",
       "    <tr style=\"text-align: right;\">\n",
       "      <th></th>\n",
       "      <th>Date</th>\n",
       "      <th>Store</th>\n",
       "      <th>AfterSchoolHoliday</th>\n",
       "      <th>BeforeSchoolHoliday</th>\n",
       "      <th>AfterStateHoliday</th>\n",
       "      <th>BeforeStateHoliday</th>\n",
       "      <th>AfterPromo</th>\n",
       "      <th>BeforePromo</th>\n",
       "      <th>SchoolHoliday_bw</th>\n",
       "      <th>StateHoliday_bw</th>\n",
       "      <th>Promo_bw</th>\n",
       "      <th>SchoolHoliday_fw</th>\n",
       "      <th>StateHoliday_fw</th>\n",
       "      <th>Promo_fw</th>\n",
       "    </tr>\n",
       "  </thead>\n",
       "  <tbody>\n",
       "    <tr>\n",
       "      <th>0</th>\n",
       "      <td>2015-07-31</td>\n",
       "      <td>1</td>\n",
       "      <td>0</td>\n",
       "      <td>0</td>\n",
       "      <td>57</td>\n",
       "      <td>0</td>\n",
       "      <td>0</td>\n",
       "      <td>0</td>\n",
       "      <td>5.0</td>\n",
       "      <td>0.0</td>\n",
       "      <td>5.0</td>\n",
       "      <td>1.0</td>\n",
       "      <td>0.0</td>\n",
       "      <td>1.0</td>\n",
       "    </tr>\n",
       "    <tr>\n",
       "      <th>1</th>\n",
       "      <td>2015-07-30</td>\n",
       "      <td>1</td>\n",
       "      <td>0</td>\n",
       "      <td>0</td>\n",
       "      <td>56</td>\n",
       "      <td>0</td>\n",
       "      <td>0</td>\n",
       "      <td>0</td>\n",
       "      <td>4.0</td>\n",
       "      <td>0.0</td>\n",
       "      <td>4.0</td>\n",
       "      <td>2.0</td>\n",
       "      <td>0.0</td>\n",
       "      <td>2.0</td>\n",
       "    </tr>\n",
       "    <tr>\n",
       "      <th>2</th>\n",
       "      <td>2015-07-29</td>\n",
       "      <td>1</td>\n",
       "      <td>0</td>\n",
       "      <td>0</td>\n",
       "      <td>55</td>\n",
       "      <td>0</td>\n",
       "      <td>0</td>\n",
       "      <td>0</td>\n",
       "      <td>3.0</td>\n",
       "      <td>0.0</td>\n",
       "      <td>3.0</td>\n",
       "      <td>3.0</td>\n",
       "      <td>0.0</td>\n",
       "      <td>3.0</td>\n",
       "    </tr>\n",
       "    <tr>\n",
       "      <th>3</th>\n",
       "      <td>2015-07-28</td>\n",
       "      <td>1</td>\n",
       "      <td>0</td>\n",
       "      <td>0</td>\n",
       "      <td>54</td>\n",
       "      <td>0</td>\n",
       "      <td>0</td>\n",
       "      <td>0</td>\n",
       "      <td>2.0</td>\n",
       "      <td>0.0</td>\n",
       "      <td>2.0</td>\n",
       "      <td>4.0</td>\n",
       "      <td>0.0</td>\n",
       "      <td>4.0</td>\n",
       "    </tr>\n",
       "    <tr>\n",
       "      <th>4</th>\n",
       "      <td>2015-07-27</td>\n",
       "      <td>1</td>\n",
       "      <td>0</td>\n",
       "      <td>0</td>\n",
       "      <td>53</td>\n",
       "      <td>0</td>\n",
       "      <td>0</td>\n",
       "      <td>0</td>\n",
       "      <td>1.0</td>\n",
       "      <td>0.0</td>\n",
       "      <td>1.0</td>\n",
       "      <td>5.0</td>\n",
       "      <td>0.0</td>\n",
       "      <td>5.0</td>\n",
       "    </tr>\n",
       "  </tbody>\n",
       "</table>\n",
       "</div>"
      ],
      "text/plain": [
       "        Date  Store  AfterSchoolHoliday  BeforeSchoolHoliday  \\\n",
       "0 2015-07-31      1                   0                    0   \n",
       "1 2015-07-30      1                   0                    0   \n",
       "2 2015-07-29      1                   0                    0   \n",
       "3 2015-07-28      1                   0                    0   \n",
       "4 2015-07-27      1                   0                    0   \n",
       "\n",
       "   AfterStateHoliday  BeforeStateHoliday  AfterPromo  BeforePromo  \\\n",
       "0                 57                   0           0            0   \n",
       "1                 56                   0           0            0   \n",
       "2                 55                   0           0            0   \n",
       "3                 54                   0           0            0   \n",
       "4                 53                   0           0            0   \n",
       "\n",
       "   SchoolHoliday_bw  StateHoliday_bw  Promo_bw  SchoolHoliday_fw  \\\n",
       "0               5.0              0.0       5.0               1.0   \n",
       "1               4.0              0.0       4.0               2.0   \n",
       "2               3.0              0.0       3.0               3.0   \n",
       "3               2.0              0.0       2.0               4.0   \n",
       "4               1.0              0.0       1.0               5.0   \n",
       "\n",
       "   StateHoliday_fw  Promo_fw  \n",
       "0              0.0       1.0  \n",
       "1              0.0       2.0  \n",
       "2              0.0       3.0  \n",
       "3              0.0       4.0  \n",
       "4              0.0       5.0  "
      ]
     },
     "execution_count": 35,
     "metadata": {},
     "output_type": "execute_result"
    }
   ],
   "source": [
    "df.head()"
   ]
  },
  {
   "cell_type": "code",
   "execution_count": 36,
   "metadata": {},
   "outputs": [],
   "source": [
    "df.to_csv('processed_data/df.csv')"
   ]
  },
  {
   "cell_type": "code",
   "execution_count": 41,
   "metadata": {},
   "outputs": [
    {
     "name": "stderr",
     "output_type": "stream",
     "text": [
      "/Users/karolis/anaconda3/lib/python3.6/site-packages/numpy/lib/arraysetops.py:466: FutureWarning: elementwise comparison failed; returning scalar instead, but in the future will perform elementwise comparison\n",
      "  mask |= (ar1 == a)\n"
     ]
    }
   ],
   "source": [
    "df = pd.read_csv('processed_data/df.csv', index_col=0)\n",
    "df['Date'] = pd.to_datetime(df['Date'])"
   ]
  },
  {
   "cell_type": "code",
   "execution_count": 44,
   "metadata": {},
   "outputs": [],
   "source": [
    "joined = join(joined, df, ['Store', 'Date'])"
   ]
  },
  {
   "cell_type": "code",
   "execution_count": 45,
   "metadata": {},
   "outputs": [],
   "source": [
    "joined.to_csv('processed_data/joined.csv')"
   ]
  },
  {
   "cell_type": "code",
   "execution_count": 46,
   "metadata": {},
   "outputs": [
    {
     "name": "stderr",
     "output_type": "stream",
     "text": [
      "/Users/karolis/anaconda3/lib/python3.6/site-packages/numpy/lib/arraysetops.py:466: FutureWarning: elementwise comparison failed; returning scalar instead, but in the future will perform elementwise comparison\n",
      "  mask |= (ar1 == a)\n"
     ]
    }
   ],
   "source": [
    "joined = pd.read_csv('processed_data/joined.csv', index_col=0)\n",
    "joined['Date'] = pd.to_datetime(joined['Date'])"
   ]
  },
  {
   "cell_type": "code",
   "execution_count": 47,
   "metadata": {},
   "outputs": [
    {
     "name": "stdout",
     "output_type": "stream",
     "text": [
      "Features: \n",
      "\n",
      "Store\n",
      "DayOfWeek\n",
      "Date\n",
      "Sales\n",
      "Customers\n",
      "Open\n",
      "Promo\n",
      "StateHoliday\n",
      "SchoolHoliday\n",
      "Year\n",
      "Month\n",
      "Week\n",
      "Day\n",
      "StoreType\n",
      "Assortment\n",
      "CompetitionDistance\n",
      "CompetitionOpenSinceMonth\n",
      "CompetitionOpenSinceYear\n",
      "Promo2\n",
      "Promo2SinceWeek\n",
      "Promo2SinceYear\n",
      "PromoInterval\n",
      "State\n",
      "file\n",
      "week\n",
      "trend\n",
      "Date_y\n",
      "Month_y\n",
      "Day_y\n",
      "file_DE\n",
      "week_DE\n",
      "trend_DE\n",
      "Date_DE\n",
      "State_DE\n",
      "Month_DE\n",
      "Day_DE\n",
      "file_y\n",
      "Max_TemperatureC\n",
      "Mean_TemperatureC\n",
      "Min_TemperatureC\n",
      "Dew_PointC\n",
      "MeanDew_PointC\n",
      "Min_DewpointC\n",
      "Max_Humidity\n",
      "Mean_Humidity\n",
      "Min_Humidity\n",
      "Max_Sea_Level_PressurehPa\n",
      "Mean_Sea_Level_PressurehPa\n",
      "Min_Sea_Level_PressurehPa\n",
      "Max_VisibilityKm\n",
      "Mean_VisibilityKm\n",
      "Min_VisibilitykM\n",
      "Max_Wind_SpeedKm_h\n",
      "Mean_Wind_SpeedKm_h\n",
      "Max_Gust_SpeedKm_h\n",
      "Precipitationmm\n",
      "CloudCover\n",
      "Events\n",
      "WindDirDegrees\n",
      "StateName\n",
      "Year_y\n",
      "Month_y.1\n",
      "Week_y\n",
      "Day_y.1\n",
      "CompetitionOpenSince\n",
      "CompetitionDaysOpen\n",
      "CompetitionMonthsOpen\n",
      "Promo2Since\n",
      "Promo2Days\n",
      "Promo2Weeks\n",
      "AfterSchoolHoliday\n",
      "BeforeSchoolHoliday\n",
      "AfterStateHoliday\n",
      "BeforeStateHoliday\n",
      "AfterPromo\n",
      "BeforePromo\n",
      "SchoolHoliday_bw\n",
      "StateHoliday_bw\n",
      "Promo_bw\n",
      "SchoolHoliday_fw\n",
      "StateHoliday_fw\n",
      "Promo_fw\n"
     ]
    }
   ],
   "source": [
    "print('Features: \\n\\n%s' % '\\n'.join(joined.columns))"
   ]
  },
  {
   "cell_type": "markdown",
   "metadata": {},
   "source": [
    "### Creating Entity Embeddings"
   ]
  },
  {
   "cell_type": "code",
   "execution_count": 48,
   "metadata": {},
   "outputs": [],
   "source": [
    "# Embedding Dimensionality\n",
    "cat_var_dict = {\n",
    "    'Store': 50,\n",
    "    'DayOfWeek': 6,\n",
    "    'Year': 2,\n",
    "    'Month': 6,\n",
    "    'Day': 10,\n",
    "    'StateHoliday': 3,\n",
    "    'CompetitionMonthsOpen': 2,\n",
    "    'Promo2Weeks': 1,\n",
    "    'StoreType': 2,\n",
    "    'Assortment': 3,\n",
    "    'PromoInterval': 3,\n",
    "    'CompetitionOpenSinceYear': 4,\n",
    "    'Promo2SinceYear': 4,\n",
    "    'State': 6,\n",
    "    'Week': 2,\n",
    "    'Events': 4,\n",
    "    'Promo_fw': 1,\n",
    "    'Promo_bw': 1,\n",
    "    'StateHoliday_fw': 1,\n",
    "    'StateHoliday_bw': 1,\n",
    "    'SchoolHoliday_fw': 1,\n",
    "    'SchoolHoliday_bw': 1\n",
    "}"
   ]
  },
  {
   "cell_type": "code",
   "execution_count": 50,
   "metadata": {},
   "outputs": [],
   "source": [
    "cat_vars = [\n",
    "    o[0] for o in sorted(\n",
    "        cat_var_dict.items(), key=operator.itemgetter(1), reverse=True\n",
    "    )\n",
    "]"
   ]
  },
  {
   "cell_type": "code",
   "execution_count": 51,
   "metadata": {},
   "outputs": [
    {
     "data": {
      "text/plain": [
       "['Store',\n",
       " 'Day',\n",
       " 'DayOfWeek',\n",
       " 'Month',\n",
       " 'State',\n",
       " 'CompetitionOpenSinceYear',\n",
       " 'Promo2SinceYear',\n",
       " 'Events',\n",
       " 'StateHoliday',\n",
       " 'Assortment',\n",
       " 'PromoInterval',\n",
       " 'Year',\n",
       " 'CompetitionMonthsOpen',\n",
       " 'StoreType',\n",
       " 'Week',\n",
       " 'Promo2Weeks',\n",
       " 'Promo_fw',\n",
       " 'Promo_bw',\n",
       " 'StateHoliday_fw',\n",
       " 'StateHoliday_bw',\n",
       " 'SchoolHoliday_fw',\n",
       " 'SchoolHoliday_bw']"
      ]
     },
     "execution_count": 51,
     "metadata": {},
     "output_type": "execute_result"
    }
   ],
   "source": [
    "cat_vars"
   ]
  },
  {
   "cell_type": "code",
   "execution_count": 64,
   "metadata": {},
   "outputs": [],
   "source": [
    "contin_vars = [\n",
    "    'CompetitionDistance',\n",
    "    'Max_TemperatureC',\n",
    "    'Mean_TemperatureC',\n",
    "    'Min_TemperatureC',\n",
    "    'Max_Humidity',\n",
    "    'Mean_Humidity',\n",
    "    'Min_Humidity',\n",
    "    'Max_Wind_SpeedKm_h',\n",
    "    'Mean_Wind_SpeedKm_h',\n",
    "    'CloudCover',\n",
    "    'trend',\n",
    "    'trend_DE',\n",
    "    'AfterStateHoliday',\n",
    "    'BeforeStateHoliday',\n",
    "    'Promo',\n",
    "    'SchoolHoliday'\n",
    "]"
   ]
  },
  {
   "cell_type": "code",
   "execution_count": 65,
   "metadata": {},
   "outputs": [],
   "source": [
    "for v in contin_vars:\n",
    "    joined.loc[joined[v].isnull(), v] = 0\n",
    "    \n",
    "for v in cat_vars:\n",
    "    joined.loc[joined[v].isnull(), v] = ''"
   ]
  },
  {
   "cell_type": "code",
   "execution_count": 66,
   "metadata": {},
   "outputs": [],
   "source": [
    "cat_maps = [(o, LabelEncoder()) for o in cat_vars]\n",
    "contin_maps = [([o], StandardScaler()) for o in contin_vars]"
   ]
  },
  {
   "cell_type": "code",
   "execution_count": 67,
   "metadata": {},
   "outputs": [],
   "source": [
    "cat_mapper = DataFrameMapper(cat_maps)\n",
    "cat_map_fit = cat_mapper.fit(joined)"
   ]
  },
  {
   "cell_type": "code",
   "execution_count": 68,
   "metadata": {},
   "outputs": [
    {
     "name": "stdout",
     "output_type": "stream",
     "text": [
      "No. categorical features: 22\n"
     ]
    }
   ],
   "source": [
    "print('No. categorical features: %d' % len(cat_map_fit.features))"
   ]
  },
  {
   "cell_type": "code",
   "execution_count": 69,
   "metadata": {},
   "outputs": [
    {
     "name": "stderr",
     "output_type": "stream",
     "text": [
      "/Users/karolis/anaconda3/lib/python3.6/site-packages/sklearn/utils/validation.py:429: DataConversionWarning: Data with input dtype int64 was converted to float64 by StandardScaler.\n",
      "  warnings.warn(msg, _DataConversionWarning)\n"
     ]
    }
   ],
   "source": [
    "contin_mapper = DataFrameMapper(contin_maps)\n",
    "contin_map_fit = contin_mapper.fit(joined)"
   ]
  },
  {
   "cell_type": "code",
   "execution_count": 70,
   "metadata": {},
   "outputs": [
    {
     "name": "stdout",
     "output_type": "stream",
     "text": [
      "No. continuous features: 16\n"
     ]
    }
   ],
   "source": [
    "print('No. continuous features: %d' % len(contin_map_fit.features))"
   ]
  },
  {
   "cell_type": "code",
   "execution_count": 72,
   "metadata": {},
   "outputs": [],
   "source": [
    "pickle.dump(cat_map_fit, open('processed_data/cat_maps.pkl', 'wb'))\n",
    "pickle.dump(contin_map_fit, open('processed_data/contin_map.pkl', 'wb'))"
   ]
  },
  {
   "cell_type": "markdown",
   "metadata": {},
   "source": [
    "### Sample Data"
   ]
  },
  {
   "cell_type": "code",
   "execution_count": 76,
   "metadata": {},
   "outputs": [
    {
     "name": "stdout",
     "output_type": "stream",
     "text": [
      "844338\n"
     ]
    }
   ],
   "source": [
    "joined_sales = joined[joined['Sales'] != 0]\n",
    "\n",
    "n = len(joined_sales)\n",
    "\n",
    "print(n)"
   ]
  },
  {
   "cell_type": "code",
   "execution_count": 75,
   "metadata": {},
   "outputs": [],
   "source": [
    "sample_size = 100000\n",
    "np.random.seed(42)\n",
    "indices = sorted(np.random.choice(n, sample_size, replace=False))"
   ]
  },
  {
   "cell_type": "code",
   "execution_count": 77,
   "metadata": {},
   "outputs": [],
   "source": [
    "joined_sample = joined_sales.iloc[indices].set_index('Date')\n",
    "sample_size = n\n",
    "joined_sample = joined_sales.set_index('Date')"
   ]
  },
  {
   "cell_type": "code",
   "execution_count": 78,
   "metadata": {},
   "outputs": [
    {
     "data": {
      "text/plain": [
       "759904"
      ]
     },
     "execution_count": 78,
     "metadata": {},
     "output_type": "execute_result"
    }
   ],
   "source": [
    "train_ratio = 0.9\n",
    "train_size = int(sample_size * train_ratio)\n",
    "train_size"
   ]
  },
  {
   "cell_type": "code",
   "execution_count": 82,
   "metadata": {},
   "outputs": [
    {
     "data": {
      "text/plain": [
       "(759904, 84434)"
      ]
     },
     "execution_count": 82,
     "metadata": {},
     "output_type": "execute_result"
    }
   ],
   "source": [
    "joined_train = joined_sample[:train_size]\n",
    "joined_valid = joined_sample[train_size:]\n",
    "\n",
    "len(joined_train), len(joined_valid)"
   ]
  },
  {
   "cell_type": "code",
   "execution_count": 80,
   "metadata": {},
   "outputs": [],
   "source": [
    "def cat_preproc(dat):\n",
    "    return cat_map_fit.transform(dat).astype(np.int64)"
   ]
  },
  {
   "cell_type": "code",
   "execution_count": 83,
   "metadata": {},
   "outputs": [],
   "source": [
    "cat_map_train = cat_preproc(joined_train)\n",
    "cat_map_valid = cat_preproc(joined_valid)"
   ]
  },
  {
   "cell_type": "code",
   "execution_count": 84,
   "metadata": {},
   "outputs": [],
   "source": [
    "def contin_preproc(dat):\n",
    "    return contin_map_fit.transform(dat).astype(np.float32)"
   ]
  },
  {
   "cell_type": "code",
   "execution_count": 85,
   "metadata": {},
   "outputs": [
    {
     "name": "stderr",
     "output_type": "stream",
     "text": [
      "/Users/karolis/anaconda3/lib/python3.6/site-packages/sklearn/utils/validation.py:429: DataConversionWarning: Data with input dtype int64 was converted to float64 by StandardScaler.\n",
      "  warnings.warn(msg, _DataConversionWarning)\n"
     ]
    }
   ],
   "source": [
    "contin_map_train = contin_preproc(joined_train)\n",
    "contin_map_valid = contin_preproc(joined_valid)"
   ]
  },
  {
   "cell_type": "code",
   "execution_count": 86,
   "metadata": {},
   "outputs": [],
   "source": [
    "y_train_orig = joined_train['Sales']\n",
    "y_valid_orig = joined_valid['Sales']"
   ]
  },
  {
   "cell_type": "code",
   "execution_count": 87,
   "metadata": {},
   "outputs": [],
   "source": [
    "max_log_y = np.max(np.log(joined_sample['Sales']))\n",
    "y_train = np.log(y_train_orig) / max_log_y\n",
    "y_valid = np.log(y_valid_orig) / max_log_y"
   ]
  },
  {
   "cell_type": "code",
   "execution_count": 88,
   "metadata": {},
   "outputs": [],
   "source": [
    "def rmspe(y_pred, targ=y_valid_orig):\n",
    "    pct_var = (targ - y_pred) / targ\n",
    "    return np.sqrt(np.square(pct_var).mean())"
   ]
  },
  {
   "cell_type": "code",
   "execution_count": 89,
   "metadata": {},
   "outputs": [],
   "source": [
    "def log_max_inv(preds, mx=max_log_y):\n",
    "    return np.exp(preds * mx)"
   ]
  },
  {
   "cell_type": "code",
   "execution_count": 90,
   "metadata": {},
   "outputs": [],
   "source": [
    "def normalise_inv(preds):\n",
    "    return preds * ystd + ymean"
   ]
  },
  {
   "cell_type": "code",
   "execution_count": 91,
   "metadata": {},
   "outputs": [],
   "source": [
    "def split_cols(arr):\n",
    "    return np.hsplit(arr, arr.shape[1])"
   ]
  },
  {
   "cell_type": "code",
   "execution_count": 132,
   "metadata": {},
   "outputs": [],
   "source": [
    "map_train = split_cols(cat_map_train) + [contin_map_train]\n",
    "map_valid = split_cols(cat_map_valid) + [contin_map_valid]"
   ]
  },
  {
   "cell_type": "code",
   "execution_count": 99,
   "metadata": {},
   "outputs": [],
   "source": [
    "def cat_map_info(feat):\n",
    "    return feat[0], len(feat[1].classes_)"
   ]
  },
  {
   "cell_type": "code",
   "execution_count": 101,
   "metadata": {},
   "outputs": [],
   "source": [
    "def get_emb(feat):\n",
    "    name, c = cat_map_info(feat)\n",
    "    c2 = (c + 1) // 2\n",
    "    \n",
    "    if c2 > 50:\n",
    "        c2 = 50\n",
    "    \n",
    "    inp = Input((1, ), dtype='int64', name=name+'_in')  \n",
    "    u = Flatten(name=name+'_flt')(Embedding(c, c2, input_length=1)(inp))\n",
    "    \n",
    "    return inp, u"
   ]
  },
  {
   "cell_type": "code",
   "execution_count": 124,
   "metadata": {},
   "outputs": [],
   "source": [
    "def get_contin(feat):\n",
    "    name = feat[0][0]\n",
    "    inp = Input((1, ), name=name+'_in')\n",
    "    return inp, Dense(1, name=name+'_d')(inp)"
   ]
  },
  {
   "cell_type": "code",
   "execution_count": 125,
   "metadata": {},
   "outputs": [],
   "source": [
    "contin_cols = contin_map_train.shape[1]\n",
    "\n",
    "contin_inp = Input((contin_cols, ), name='contin')\n",
    "contin_out = Dense(contin_cols * 10, activation='relu', name='contin_d')(contin_inp)"
   ]
  },
  {
   "cell_type": "code",
   "execution_count": 126,
   "metadata": {},
   "outputs": [],
   "source": [
    "embs = [get_emb(feat) for feat in cat_map_fit.features]"
   ]
  },
  {
   "cell_type": "code",
   "execution_count": 127,
   "metadata": {},
   "outputs": [
    {
     "name": "stderr",
     "output_type": "stream",
     "text": [
      "/Users/karolis/anaconda3/lib/python3.6/site-packages/ipykernel_launcher.py:1: UserWarning: The `merge` function is deprecated and will be removed after 08/2017. Use instead layers from `keras.layers.merge`, e.g. `add`, `concatenate`, etc.\n",
      "  \"\"\"Entry point for launching an IPython kernel.\n",
      "/Users/karolis/anaconda3/lib/python3.6/site-packages/keras/legacy/layers.py:464: UserWarning: The `Merge` layer is deprecated and will be removed after 08/2017. Use instead layers from `keras.layers.merge`, e.g. `add`, `concatenate`, etc.\n",
      "  name=name)\n"
     ]
    }
   ],
   "source": [
    "x = merge([emb for inp, emb in embs] + [contin_out], mode='concat')"
   ]
  },
  {
   "cell_type": "code",
   "execution_count": 128,
   "metadata": {
    "scrolled": false
   },
   "outputs": [
    {
     "name": "stderr",
     "output_type": "stream",
     "text": [
      "/Users/karolis/anaconda3/lib/python3.6/site-packages/ipykernel_launcher.py:2: UserWarning: Update your `Dense` call to the Keras 2 API: `Dense(1000, activation=\"relu\", kernel_initializer=\"uniform\")`\n",
      "  \n",
      "/Users/karolis/anaconda3/lib/python3.6/site-packages/ipykernel_launcher.py:3: UserWarning: Update your `Dense` call to the Keras 2 API: `Dense(500, activation=\"relu\", kernel_initializer=\"uniform\")`\n",
      "  This is separate from the ipykernel package so we can avoid doing imports until\n"
     ]
    }
   ],
   "source": [
    "x = Dropout(0.02)(x)\n",
    "x = Dense(1000, activation='relu', init='uniform')(x)\n",
    "x = Dense(500, activation='relu', init='uniform')(x)\n",
    "x = Dropout(0.02)(x)\n",
    "x = Dense(1, activation='sigmoid')(x)\n",
    "\n",
    "model = Model([inp for inp, emb in embs] + [contin_inp], x)\n",
    "model.compile('adam', 'mean_absolute_error')"
   ]
  },
  {
   "cell_type": "markdown",
   "metadata": {},
   "source": [
    "## Training"
   ]
  },
  {
   "cell_type": "code",
   "execution_count": 133,
   "metadata": {},
   "outputs": [
    {
     "name": "stdout",
     "output_type": "stream",
     "text": [
      "CPU times: user 4h 22min 25s, sys: 58min 48s, total: 5h 21min 13s\n",
      "Wall time: 1h 7min 40s\n"
     ]
    }
   ],
   "source": [
    "%%time\n",
    "hist = model.fit(\n",
    "    map_train,\n",
    "    y_train,\n",
    "    batch_size=128,\n",
    "    epochs=25,\n",
    "    verbose=0,\n",
    "    validation_data=(map_valid, y_valid)\n",
    ")"
   ]
  },
  {
   "cell_type": "code",
   "execution_count": 136,
   "metadata": {},
   "outputs": [
    {
     "data": {
      "text/plain": [
       "{'loss': [0.010241288407895345,\n",
       "  0.007605321055803946,\n",
       "  0.007070888785314596,\n",
       "  0.006780431444726527,\n",
       "  0.006579284702220651,\n",
       "  0.006425150808807532,\n",
       "  0.006294385587568552,\n",
       "  0.006187446498979438,\n",
       "  0.00610181438146104,\n",
       "  0.006032796716884242,\n",
       "  0.005953792292385008,\n",
       "  0.0059064557284956645,\n",
       "  0.005851642363751215,\n",
       "  0.005808150901826988,\n",
       "  0.00576457911749767,\n",
       "  0.005728837298744276,\n",
       "  0.005693918057938301,\n",
       "  0.005672344851345652,\n",
       "  0.00564777270629224,\n",
       "  0.005619026676932431,\n",
       "  0.005606485904074916,\n",
       "  0.005586936172239422,\n",
       "  0.0055612703612464166,\n",
       "  0.005550633848542394,\n",
       "  0.005540187918608247],\n",
       " 'val_loss': [0.01042643699386538,\n",
       "  0.010441909050282375,\n",
       "  0.009760969638611625,\n",
       "  0.01003791392698842,\n",
       "  0.009964476508501446,\n",
       "  0.009614486099651055,\n",
       "  0.010264485595605274,\n",
       "  0.009688697332373318,\n",
       "  0.00963811964443602,\n",
       "  0.009709696916022248,\n",
       "  0.010042543392129425,\n",
       "  0.009660767864695429,\n",
       "  0.009646999520010597,\n",
       "  0.010440170316259323,\n",
       "  0.009870351110702285,\n",
       "  0.00985072759581086,\n",
       "  0.009808190514577512,\n",
       "  0.009943415655576457,\n",
       "  0.010022308357184553,\n",
       "  0.009913866883393727,\n",
       "  0.009673854680857857,\n",
       "  0.010215638239977648,\n",
       "  0.009793921151018941,\n",
       "  0.00987326321165503,\n",
       "  0.010287764502848651]}"
      ]
     },
     "execution_count": 136,
     "metadata": {},
     "output_type": "execute_result"
    }
   ],
   "source": [
    "hist.history"
   ]
  },
  {
   "cell_type": "code",
   "execution_count": 138,
   "metadata": {},
   "outputs": [
    {
     "data": {
      "text/plain": [
       "<matplotlib.axes._subplots.AxesSubplot at 0x136b59fd0>"
      ]
     },
     "execution_count": 138,
     "metadata": {},
     "output_type": "execute_result"
    },
    {
     "data": {
      "image/png": "[encoded data removed]",
      "text/plain": [
       "<matplotlib.figure.Figure at 0x1368c4128>"
      ]
     },
     "metadata": {},
     "output_type": "display_data"
    }
   ],
   "source": [
    "plt.rcParams['font.size'] = 20\n",
    "\n",
    "pd.DataFrame(hist.history).plot(\n",
    "    figsize=(20, 10)\n",
    ")"
   ]
  },
  {
   "cell_type": "code",
   "execution_count": null,
   "metadata": {},
   "outputs": [],
   "source": []
  }
 ],
 "metadata": {
  "kernelspec": {
   "display_name": "Python 3",
   "language": "python",
   "name": "python3"
  },
  "language_info": {
   "codemirror_mode": {
    "name": "ipython",
    "version": 3
   },
   "file_extension": ".py",
   "mimetype": "text/x-python",
   "name": "python",
   "nbconvert_exporter": "python",
   "pygments_lexer": "ipython3",
   "version": "3.6.3"
  }
 },
 "nbformat": 4,
 "nbformat_minor": 2
}
